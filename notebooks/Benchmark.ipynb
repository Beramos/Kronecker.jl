{
 "cells": [
  {
   "cell_type": "markdown",
   "metadata": {},
   "source": [
    "# Benchmarking Kronecker.jl\n",
    "\n",
    "In this notebook, we illustrate the basic functionality of `Kronecker.jl` and compare the runtime with native Julia code."
   ]
  },
  {
   "cell_type": "code",
   "execution_count": 1,
   "metadata": {},
   "outputs": [],
   "source": [
    "using Kronecker, BenchmarkTools, LinearAlgebra"
   ]
  },
  {
   "cell_type": "markdown",
   "metadata": {},
   "source": [
    "## Basic functionality"
   ]
  },
  {
   "cell_type": "code",
   "execution_count": 2,
   "metadata": {
    "scrolled": true
   },
   "outputs": [],
   "source": [
    "# define some matrices\n",
    "\n",
    "A = randn(4, 4);\n",
    "B = Array{Float64, 2}([1 2 3;\n",
    "     4 5 6;\n",
    "     7 -2 9]);\n",
    "C = rand(5, 6);\n",
    "\n",
    "v = rand(12);"
   ]
  },
  {
   "cell_type": "markdown",
   "metadata": {},
   "source": [
    "A Kronecker product between two matrices (of the same type) is constructed using $\\otimes$, typed as `\\otimes TAB`. It is **not** directly evaluated unless we use `collect`."
   ]
  },
  {
   "cell_type": "code",
   "execution_count": 3,
   "metadata": {},
   "outputs": [
    {
     "data": {
      "text/plain": []
     },
     "execution_count": 3,
     "metadata": {},
     "output_type": "execute_result"
    },
    {
     "name": "stdout",
     "output_type": "stream",
     "text": [
      "Kronecker system of the form A ⊗ B\n"
     ]
    }
   ],
   "source": [
    "K = A ⊗ B"
   ]
  },
  {
   "cell_type": "code",
   "execution_count": 4,
   "metadata": {
    "scrolled": false
   },
   "outputs": [
    {
     "data": {
      "text/plain": [
       "12×12 Array{Float64,2}:\n",
       "  0.633645   1.26729    1.90094  …   1.11148    2.22296    3.33445 \n",
       "  2.53458    3.16823    3.80187      4.44593    5.55741    6.66889 \n",
       "  4.43552   -1.26729    5.70281      7.78038   -2.22296   10.0033  \n",
       "  1.33125    2.66249    3.99374      0.711448   1.4229     2.13434 \n",
       "  5.32499    6.65624    7.98748      2.84579    3.55724    4.26869 \n",
       "  9.31873   -2.66249   11.9812   …   4.98013   -1.4229     6.40303 \n",
       " -0.335013  -0.670026  -1.00504     -0.229921  -0.459843  -0.689764\n",
       " -1.34005   -1.67507   -2.01008     -0.919685  -1.14961   -1.37953 \n",
       " -2.34509    0.670026  -3.01512     -1.60945    0.459843  -2.06929 \n",
       " -0.753235  -1.50647   -2.25971     -0.483323  -0.966645  -1.44997 \n",
       " -3.01294   -3.76618   -4.51941  …  -1.93329   -2.41661   -2.89994 \n",
       " -5.27265    1.50647   -6.77912     -3.38326    0.966645  -4.3499  "
      ]
     },
     "execution_count": 4,
     "metadata": {},
     "output_type": "execute_result"
    }
   ],
   "source": [
    "collect(K)"
   ]
  },
  {
   "cell_type": "code",
   "execution_count": 5,
   "metadata": {},
   "outputs": [
    {
     "data": {
      "text/plain": [
       "10.622391602934137"
      ]
     },
     "execution_count": 5,
     "metadata": {},
     "output_type": "execute_result"
    }
   ],
   "source": [
    "K[3, 4]  # indexing works, computes result directly"
   ]
  },
  {
   "cell_type": "markdown",
   "metadata": {},
   "source": [
    "Compare with Julia native result."
   ]
  },
  {
   "cell_type": "code",
   "execution_count": 6,
   "metadata": {},
   "outputs": [
    {
     "data": {
      "text/plain": [
       "12×12 Array{Float64,2}:\n",
       "  0.633645   1.26729    1.90094  …   1.11148    2.22296    3.33445 \n",
       "  2.53458    3.16823    3.80187      4.44593    5.55741    6.66889 \n",
       "  4.43552   -1.26729    5.70281      7.78038   -2.22296   10.0033  \n",
       "  1.33125    2.66249    3.99374      0.711448   1.4229     2.13434 \n",
       "  5.32499    6.65624    7.98748      2.84579    3.55724    4.26869 \n",
       "  9.31873   -2.66249   11.9812   …   4.98013   -1.4229     6.40303 \n",
       " -0.335013  -0.670026  -1.00504     -0.229921  -0.459843  -0.689764\n",
       " -1.34005   -1.67507   -2.01008     -0.919685  -1.14961   -1.37953 \n",
       " -2.34509    0.670026  -3.01512     -1.60945    0.459843  -2.06929 \n",
       " -0.753235  -1.50647   -2.25971     -0.483323  -0.966645  -1.44997 \n",
       " -3.01294   -3.76618   -4.51941  …  -1.93329   -2.41661   -2.89994 \n",
       " -5.27265    1.50647   -6.77912     -3.38326    0.966645  -4.3499  "
      ]
     },
     "execution_count": 6,
     "metadata": {},
     "output_type": "execute_result"
    }
   ],
   "source": [
    "X = kron(A, B)"
   ]
  },
  {
   "cell_type": "markdown",
   "metadata": {},
   "source": [
    "Basic algebraic properties can be computed, but much faster. Note that we compare using the **precomputed** Kronecker product, something which is not even possible for realistic matrices.\n",
    "\n",
    "Compare:"
   ]
  },
  {
   "cell_type": "markdown",
   "metadata": {},
   "source": [
    "### Trace"
   ]
  },
  {
   "cell_type": "code",
   "execution_count": 7,
   "metadata": {},
   "outputs": [
    {
     "name": "stdout",
     "output_type": "stream",
     "text": [
      "  14.246 ns (1 allocation: 32 bytes)\n"
     ]
    },
    {
     "data": {
      "text/plain": [
       "29.8995111604951"
      ]
     },
     "execution_count": 7,
     "metadata": {},
     "output_type": "execute_result"
    }
   ],
   "source": [
    "@btime tr($A ⊗ $B)"
   ]
  },
  {
   "cell_type": "code",
   "execution_count": 8,
   "metadata": {},
   "outputs": [
    {
     "name": "stdout",
     "output_type": "stream",
     "text": [
      "  10.166 ns (0 allocations: 0 bytes)\n"
     ]
    },
    {
     "data": {
      "text/plain": [
       "29.89951116049511"
      ]
     },
     "execution_count": 8,
     "metadata": {},
     "output_type": "execute_result"
    }
   ],
   "source": [
    "@btime tr($X)"
   ]
  },
  {
   "cell_type": "markdown",
   "metadata": {},
   "source": [
    "### Determinant"
   ]
  },
  {
   "cell_type": "code",
   "execution_count": 9,
   "metadata": {},
   "outputs": [
    {
     "name": "stdout",
     "output_type": "stream",
     "text": [
      "  509.036 ns (7 allocations: 688 bytes)\n"
     ]
    },
    {
     "data": {
      "text/plain": [
       "3.2593831590633774e6"
      ]
     },
     "execution_count": 9,
     "metadata": {},
     "output_type": "execute_result"
    }
   ],
   "source": [
    "@btime det($A ⊗ $B)"
   ]
  },
  {
   "cell_type": "code",
   "execution_count": 10,
   "metadata": {},
   "outputs": [
    {
     "name": "stdout",
     "output_type": "stream",
     "text": [
      "  1.120 μs (3 allocations: 1.42 KiB)\n"
     ]
    },
    {
     "data": {
      "text/plain": [
       "3.259383159063375e6"
      ]
     },
     "execution_count": 10,
     "metadata": {},
     "output_type": "execute_result"
    }
   ],
   "source": [
    "@btime det($X)"
   ]
  },
  {
   "cell_type": "markdown",
   "metadata": {},
   "source": [
    "### Matrix inverse"
   ]
  },
  {
   "cell_type": "code",
   "execution_count": 11,
   "metadata": {},
   "outputs": [
    {
     "name": "stdout",
     "output_type": "stream",
     "text": [
      "  1.162 μs (11 allocations: 4.52 KiB)\n"
     ]
    },
    {
     "data": {
      "text/plain": []
     },
     "execution_count": 11,
     "metadata": {},
     "output_type": "execute_result"
    },
    {
     "name": "stdout",
     "output_type": "stream",
     "text": [
      "Kronecker system of the form A ⊗ B\n"
     ]
    }
   ],
   "source": [
    "@btime inv($A ⊗ $B)"
   ]
  },
  {
   "cell_type": "code",
   "execution_count": 12,
   "metadata": {
    "scrolled": true
   },
   "outputs": [
    {
     "name": "stdout",
     "output_type": "stream",
     "text": [
      "  1.391 μs (11 allocations: 5.70 KiB)\n"
     ]
    },
    {
     "data": {
      "text/plain": [
       "12×12 Array{Float64,2}:\n",
       "  0.542261   -0.228321   -0.0285401   …  -1.36177    0.573377   0.0716721\n",
       "  0.0570801  -0.11416     0.0570801      -0.143344   0.286689  -0.143344 \n",
       " -0.409074    0.152214   -0.0285401       1.0273    -0.382251   0.0716721\n",
       " -0.226558    0.095393    0.0119241      -1.83102    0.770955   0.0963694\n",
       " -0.0238482   0.0476965  -0.0238482      -0.192739   0.385478  -0.192739 \n",
       "  0.170912   -0.0635953   0.0119241   …   1.3813    -0.51397    0.0963694\n",
       "  0.111836   -0.0470889  -0.00588611      1.33133   -0.560561  -0.0700701\n",
       "  0.0117722  -0.0235444   0.0117722       0.14014   -0.28028    0.14014  \n",
       " -0.0843676   0.0313926  -0.00588611     -1.00434    0.373707  -0.0700701\n",
       " -0.903108    0.380256    0.047532        2.69798   -1.13599   -0.141999 \n",
       " -0.095064    0.190128   -0.095064    …   0.283998  -0.567996   0.283998 \n",
       "  0.681292   -0.253504    0.047532       -2.03532    0.757328  -0.141999 "
      ]
     },
     "execution_count": 12,
     "metadata": {},
     "output_type": "execute_result"
    }
   ],
   "source": [
    "@btime collect(inv($A ⊗ $B))  # inv returns an implict Kronecker structure"
   ]
  },
  {
   "cell_type": "code",
   "execution_count": 13,
   "metadata": {
    "scrolled": true
   },
   "outputs": [
    {
     "name": "stdout",
     "output_type": "stream",
     "text": [
      "  2.407 μs (5 allocations: 7.58 KiB)\n"
     ]
    },
    {
     "data": {
      "text/plain": [
       "12×12 Array{Float64,2}:\n",
       "  0.542261   -0.228321   -0.0285401   …  -1.36177    0.573377   0.0716721\n",
       "  0.0570801  -0.11416     0.0570801      -0.143344   0.286689  -0.143344 \n",
       " -0.409074    0.152214   -0.0285401       1.0273    -0.382251   0.0716721\n",
       " -0.226558    0.095393    0.0119241      -1.83102    0.770955   0.0963694\n",
       " -0.0238482   0.0476965  -0.0238482      -0.192739   0.385478  -0.192739 \n",
       "  0.170912   -0.0635953   0.0119241   …   1.3813    -0.51397    0.0963694\n",
       "  0.111836   -0.0470889  -0.00588611      1.33133   -0.560561  -0.0700701\n",
       "  0.0117722  -0.0235444   0.0117722       0.14014   -0.28028    0.14014  \n",
       " -0.0843676   0.0313926  -0.00588611     -1.00434    0.373707  -0.0700701\n",
       " -0.903108    0.380256    0.047532        2.69798   -1.13599   -0.141999 \n",
       " -0.095064    0.190128   -0.095064    …   0.283998  -0.567996   0.283998 \n",
       "  0.681292   -0.253504    0.047532       -2.03532    0.757328  -0.141999 "
      ]
     },
     "execution_count": 13,
     "metadata": {},
     "output_type": "execute_result"
    }
   ],
   "source": [
    "@btime inv($X)"
   ]
  },
  {
   "cell_type": "markdown",
   "metadata": {},
   "source": [
    "### Matrix vector multiplication\n",
    "\n",
    "One of the most important features is the efficient multiplication of a Kronecker product with a vector."
   ]
  },
  {
   "cell_type": "code",
   "execution_count": 14,
   "metadata": {},
   "outputs": [
    {
     "name": "stdout",
     "output_type": "stream",
     "text": [
      "  416.724 ns (9 allocations: 784 bytes)\n"
     ]
    },
    {
     "data": {
      "text/plain": [
       "12-element Array{Float64,1}:\n",
       "  13.986751198142887\n",
       "  34.08131408780208 \n",
       "  31.81037680949581 \n",
       "  14.71191622834013 \n",
       "  35.98968239708811 \n",
       "  35.09028642101278 \n",
       "   4.114222926226501\n",
       "   9.343592476134516\n",
       "   5.834526736296128\n",
       "  -8.89737205315483 \n",
       " -21.510052997293325\n",
       " -19.204576545907344"
      ]
     },
     "execution_count": 14,
     "metadata": {},
     "output_type": "execute_result"
    }
   ],
   "source": [
    "@btime ($A ⊗ $B) * $v"
   ]
  },
  {
   "cell_type": "code",
   "execution_count": 15,
   "metadata": {},
   "outputs": [
    {
     "name": "stdout",
     "output_type": "stream",
     "text": [
      "  328.929 ns (2 allocations: 1.39 KiB)\n"
     ]
    },
    {
     "data": {
      "text/plain": [
       "12-element Array{Float64,1}:\n",
       "  13.986751198142885\n",
       "  34.08131408780207 \n",
       "  31.810376809495807\n",
       "  14.71191622834013 \n",
       "  35.98968239708811 \n",
       "  35.09028642101278 \n",
       "   4.114222926226501\n",
       "   9.343592476134514\n",
       "   5.834526736296127\n",
       "  -8.89737205315483 \n",
       " -21.51005299729332 \n",
       " -19.20457654590734 "
      ]
     },
     "execution_count": 15,
     "metadata": {},
     "output_type": "execute_result"
    }
   ],
   "source": [
    "@btime kron($A, $B) * $v"
   ]
  },
  {
   "cell_type": "markdown",
   "metadata": {},
   "source": [
    "Using a somewhat larger example..."
   ]
  },
  {
   "cell_type": "code",
   "execution_count": 16,
   "metadata": {},
   "outputs": [],
   "source": [
    "C = rand(50, 60);\n",
    "D = randn(80, 50);\n",
    "u = collect(1.0:(50*60));"
   ]
  },
  {
   "cell_type": "code",
   "execution_count": 17,
   "metadata": {},
   "outputs": [
    {
     "name": "stdout",
     "output_type": "stream",
     "text": [
      "  25.674 μs (12 allocations: 82.55 KiB)\n"
     ]
    }
   ],
   "source": [
    "@btime (C ⊗ D) * u;"
   ]
  },
  {
   "cell_type": "code",
   "execution_count": 18,
   "metadata": {},
   "outputs": [
    {
     "name": "stdout",
     "output_type": "stream",
     "text": [
      "  24.001 ms (4 allocations: 91.58 MiB)\n"
     ]
    }
   ],
   "source": [
    "@btime kron(C, D) * u;"
   ]
  },
  {
   "cell_type": "code",
   "execution_count": 19,
   "metadata": {},
   "outputs": [
    {
     "data": {
      "text/plain": [
       "true"
      ]
     },
     "execution_count": 19,
     "metadata": {},
     "output_type": "execute_result"
    }
   ],
   "source": [
    "all(((C ⊗ D) * u) ≈ (kron(C, D) * u))"
   ]
  },
  {
   "cell_type": "markdown",
   "metadata": {},
   "source": [
    "## Indexed Krocker systems\n",
    "\n",
    "In many applications, one has to deal with incomplete Kronecker systems. Indexed systems are supported and Kronecker system-vector multiplications are supported using the generalized vec trick."
   ]
  },
  {
   "cell_type": "code",
   "execution_count": 20,
   "metadata": {},
   "outputs": [],
   "source": [
    "v = rand(10);\n",
    "\n",
    "# sizes\n",
    "a, b = 4, 8;\n",
    "c, d = 5, 9;\n",
    "\n",
    "# matrices\n",
    "M = randn(a, b);\n",
    "N = rand(c, d);\n",
    "\n",
    "# indices\n",
    "p = rand(1:a, 6);\n",
    "q = rand(1:c, 6);\n",
    "\n",
    "r = rand(1:b, 10);\n",
    "t = rand(1:d, 10);"
   ]
  },
  {
   "cell_type": "code",
   "execution_count": 21,
   "metadata": {
    "scrolled": true
   },
   "outputs": [
    {
     "data": {
      "text/plain": []
     },
     "execution_count": 21,
     "metadata": {},
     "output_type": "execute_result"
    },
    {
     "name": "stdout",
     "output_type": "stream",
     "text": [
      "Indexed Kronecker system of the form A ⊗ B\n"
     ]
    }
   ],
   "source": [
    "kronprod = N ⊗ M\n",
    "ikp = kronprod[p,q,r,t]  # subpart of the Kronecker system"
   ]
  },
  {
   "cell_type": "code",
   "execution_count": 22,
   "metadata": {},
   "outputs": [
    {
     "data": {
      "text/plain": [
       "6×10 Array{Float64,2}:\n",
       " -0.105716  -0.423239  -0.105716  …   0.643765  -0.903264  -0.319691\n",
       " -0.170159  -0.490947  -0.170159      0.513776  -0.85826   -0.1808  \n",
       "  0.682622  -0.18825    0.682622      0.450817   1.46083   -0.387904\n",
       "  0.682622  -0.18825    0.682622      0.450817   1.46083   -0.387904\n",
       "  1.07427    0.210861   1.07427      -0.258352  -0.164295  -1.93938 \n",
       " -0.156488  -0.286323  -0.156488  …   0.16       0.100769   0.372721"
      ]
     },
     "execution_count": 22,
     "metadata": {},
     "output_type": "execute_result"
    }
   ],
   "source": [
    "collect(ikp)"
   ]
  },
  {
   "cell_type": "code",
   "execution_count": 23,
   "metadata": {
    "scrolled": true
   },
   "outputs": [
    {
     "data": {
      "text/plain": [
       "6×10 Array{Float64,2}:\n",
       " -0.105716  -0.423239  -0.105716  …   0.643765  -0.903264  -0.319691\n",
       " -0.170159  -0.490947  -0.170159      0.513776  -0.85826   -0.1808  \n",
       "  0.682622  -0.18825    0.682622      0.450817   1.46083   -0.387904\n",
       "  0.682622  -0.18825    0.682622      0.450817   1.46083   -0.387904\n",
       "  1.07427    0.210861   1.07427      -0.258352  -0.164295  -1.93938 \n",
       " -0.156488  -0.286323  -0.156488  …   0.16       0.100769   0.372721"
      ]
     },
     "execution_count": 23,
     "metadata": {},
     "output_type": "execute_result"
    }
   ],
   "source": [
    "# computing this subsystem explicitely\n",
    "subsystem = kron(N, M)[a * (q .- 1) .+ p, b * (t .- 1) .+ r]"
   ]
  },
  {
   "cell_type": "markdown",
   "metadata": {},
   "source": [
    "### Multiplication"
   ]
  },
  {
   "cell_type": "code",
   "execution_count": 24,
   "metadata": {},
   "outputs": [
    {
     "name": "stdout",
     "output_type": "stream",
     "text": [
      "  601.835 ns (4 allocations: 592 bytes)\n"
     ]
    },
    {
     "data": {
      "text/plain": [
       "6-element Array{Float64,1}:\n",
       " -1.6237876844936756 \n",
       " -1.9071851212657172 \n",
       "  1.5701087572512578 \n",
       "  1.5701087572512578 \n",
       " -0.2650864689843326 \n",
       " -0.37625001214648723"
      ]
     },
     "execution_count": 24,
     "metadata": {},
     "output_type": "execute_result"
    }
   ],
   "source": [
    "@btime $ikp * $v"
   ]
  },
  {
   "cell_type": "code",
   "execution_count": 25,
   "metadata": {},
   "outputs": [
    {
     "name": "stdout",
     "output_type": "stream",
     "text": [
      "  2.185 μs (10 allocations: 12.94 KiB)\n"
     ]
    },
    {
     "data": {
      "text/plain": [
       "6-element Array{Float64,1}:\n",
       " -1.6237876844936756 \n",
       " -1.9071851212657172 \n",
       "  1.5701087572512578 \n",
       "  1.5701087572512578 \n",
       " -0.26508646898433275\n",
       " -0.3762500121464872 "
      ]
     },
     "execution_count": 25,
     "metadata": {},
     "output_type": "execute_result"
    }
   ],
   "source": [
    "@btime kron($N, $M)[$a * ($q .- 1) .+ $p, $b * ($t .- 1) .+ $r] * $v"
   ]
  },
  {
   "cell_type": "code",
   "execution_count": 26,
   "metadata": {},
   "outputs": [
    {
     "name": "stdout",
     "output_type": "stream",
     "text": [
      "  94.946 ns (1 allocation: 128 bytes)\n"
     ]
    },
    {
     "data": {
      "text/plain": [
       "6-element Array{Float64,1}:\n",
       " -1.6237876844936756 \n",
       " -1.9071851212657172 \n",
       "  1.5701087572512578 \n",
       "  1.5701087572512578 \n",
       " -0.26508646898433275\n",
       " -0.3762500121464872 "
      ]
     },
     "execution_count": 26,
     "metadata": {},
     "output_type": "execute_result"
    }
   ],
   "source": [
    "@btime $subsystem * $v  # to be fair, if the system fits into memory, it's faster"
   ]
  },
  {
   "cell_type": "markdown",
   "metadata": {},
   "source": [
    "## Shifted Kronecker systems"
   ]
  },
  {
   "cell_type": "code",
   "execution_count": 27,
   "metadata": {},
   "outputs": [],
   "source": [
    "# again, define some matrices\n",
    "# here, we explicitly work with symmetric matrices \n",
    "\n",
    "A = Symmetric(rand(10, 10));\n",
    "B = Symmetric(rand(30, 30));\n",
    "v = rand(300);"
   ]
  },
  {
   "cell_type": "markdown",
   "metadata": {},
   "source": [
    "### Solving a shifted Kronecker system"
   ]
  },
  {
   "cell_type": "code",
   "execution_count": 28,
   "metadata": {},
   "outputs": [
    {
     "name": "stdout",
     "output_type": "stream",
     "text": [
      "  189.431 μs (62 allocations: 66.27 KiB)\n"
     ]
    },
    {
     "data": {
      "text/plain": [
       "300-element Array{Float64,1}:\n",
       "  0.8232321849019772 \n",
       "  0.7951809988226676 \n",
       "  0.22282064789310538\n",
       "  3.401704847874946  \n",
       "  3.8348746603825097 \n",
       "  2.582027956642196  \n",
       " -3.7823749520545586 \n",
       " -6.320055684648911  \n",
       " -1.2135289810401741 \n",
       "  4.097031456735285  \n",
       " -1.5212483984987055 \n",
       "  3.654014260852317  \n",
       "  1.497813130100634  \n",
       "  ⋮                  \n",
       " -0.07059806189189016\n",
       "  1.4630189652880923 \n",
       " -1.523118842636403  \n",
       " -0.8162581910305616 \n",
       " -0.13980640558056648\n",
       "  0.4319077223549445 \n",
       " -0.9310448249588144 \n",
       "  0.8580958691195064 \n",
       "  1.1503079375265173 \n",
       " -0.6630333389715537 \n",
       " -0.6211722009354042 \n",
       " -1.2119155813621463 "
      ]
     },
     "execution_count": 28,
     "metadata": {},
     "output_type": "execute_result"
    }
   ],
   "source": [
    "@btime ($A ⊗ $B + 2I) \\ $v"
   ]
  },
  {
   "cell_type": "code",
   "execution_count": 30,
   "metadata": {},
   "outputs": [
    {
     "name": "stdout",
     "output_type": "stream",
     "text": [
      "  3.786 ms (13209 allocations: 2.67 MiB)\n"
     ]
    },
    {
     "data": {
      "text/plain": [
       "300-element Array{Float64,1}:\n",
       "  0.8232321849017679 \n",
       "  0.7951809988227642 \n",
       "  0.22282064789320355\n",
       "  3.4017048478748557 \n",
       "  3.8348746603825177 \n",
       "  2.582027956642118  \n",
       " -3.7823749520547065 \n",
       " -6.320055684649038  \n",
       " -1.2135289810400134 \n",
       "  4.097031456735315  \n",
       " -1.5212483984985004 \n",
       "  3.6540142608523047 \n",
       "  1.4978131301005866 \n",
       "  ⋮                  \n",
       " -0.07059806189187662\n",
       "  1.4630189652880703 \n",
       " -1.523118842636402  \n",
       " -0.8162581910305282 \n",
       " -0.13980640558050225\n",
       "  0.4319077223549016 \n",
       " -0.9310448249588485 \n",
       "  0.8580958691195085 \n",
       "  1.1503079375265124 \n",
       " -0.663033338971506  \n",
       " -0.6211722009353845 \n",
       " -1.21191558136209   "
      ]
     },
     "execution_count": 30,
     "metadata": {},
     "output_type": "execute_result"
    }
   ],
   "source": [
    "@btime (kron($A, $B) + 2I) \\ $v"
   ]
  },
  {
   "cell_type": "code",
   "execution_count": null,
   "metadata": {},
   "outputs": [],
   "source": []
  }
 ],
 "metadata": {
  "kernelspec": {
   "display_name": "Julia 0.7.0",
   "language": "julia",
   "name": "julia-0.7"
  },
  "language_info": {
   "file_extension": ".jl",
   "mimetype": "application/julia",
   "name": "julia",
   "version": "0.7.0"
  }
 },
 "nbformat": 4,
 "nbformat_minor": 2
}
